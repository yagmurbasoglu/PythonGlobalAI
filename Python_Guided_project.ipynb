{
  "cells": [
    {
      "cell_type": "markdown",
      "metadata": {
        "id": "view-in-github",
        "colab_type": "text"
      },
      "source": [
        "<a href=\"https://colab.research.google.com/github/yagmurbasoglu/PythonGlobalAI/blob/main/Python_Guided_project.ipynb\" target=\"_parent\"><img src=\"https://colab.research.google.com/assets/colab-badge.svg\" alt=\"Open In Colab\"/></a>"
      ]
    },
    {
      "cell_type": "markdown",
      "source": [
        "# Chapter 1\n",
        "### Your first day at your new job 👩‍💻👨‍💻\n",
        "\n",
        "You are starting a new job as a junior software developer in an IT company.\n",
        "\n",
        "The company’s HR department asks you to fill out a form, so you start by assigning your personal information to corresponding variables.\n",
        "\n",
        "📌 Create a variable for your name, surname, age, ID number, place of residence, to specify if you have active health insurance or not, and lastly one for specifying your nationality.\n"
      ],
      "metadata": {
        "id": "VMuUK0ap_bRD"
      }
    },
    {
      "cell_type": "code",
      "execution_count": null,
      "metadata": {
        "id": "OPLhhc2Sp-D0"
      },
      "outputs": [],
      "source": [
        "#Please assign your personal information to variables\n",
        "my_name = \"Joey\"\n",
        "my_surname = \"Tribbiani\"\n",
        "my_age = 25\n",
        "ID_number = 123456789\n",
        "where_i_live = \"London\"\n",
        "health_insurance = True\n",
        "#my_nationality = \"British\"\n"
      ]
    },
    {
      "cell_type": "markdown",
      "metadata": {
        "id": "3zaUlxwcp-D0"
      },
      "source": [
        "###Meet And Greet\n",
        "Introduce yourself to your new co-workers.\n",
        "\n",
        "📌 Use a f-string to print \"My name is Joey Tribbiani I am 25 years old and I live in London”."
      ]
    },
    {
      "cell_type": "code",
      "source": [
        "#Write a sentence using the print function to describe yourself using the variables above in the correct data type\n",
        "print(f\"My name is {my_name} {my_surname} I am {str(my_age)} years old, I live in {where_i_live}\")"
      ],
      "metadata": {
        "id": "XNuh5_2WXwvg",
        "colab": {
          "base_uri": "https://localhost:8080/"
        },
        "outputId": "e3d6a5f3-28aa-4d1a-996b-324a11eeff8e"
      },
      "execution_count": null,
      "outputs": [
        {
          "output_type": "stream",
          "name": "stdout",
          "text": [
            "My name is Joey Tribbiani I am 25 years old, I live in London\n"
          ]
        }
      ]
    },
    {
      "cell_type": "markdown",
      "metadata": {
        "id": "EEL9To4ip-D1"
      },
      "source": [
        "### Equipment starter pack\n",
        "The HR department asks you to list the items you would need to improve your work efficiency\n",
        "\n",
        "Mandatory:\n",
        "* Laptop\n",
        "* Headset\n",
        "* Second monitor\n",
        "\n",
        "Optional:\n",
        "* Mousepad\n",
        "* USB drive\n",
        "* External drive\n",
        "\n",
        "\n",
        "📌 Create a shopping list that contains items above and print it."
      ]
    },
    {
      "cell_type": "code",
      "execution_count": null,
      "metadata": {
        "id": "fPFBLDyqp-D2"
      },
      "outputs": [],
      "source": [
        "#Create the item_list\n",
        "item_list = [\"Laptop\" ,\"Headset\",\"Second monitor\", \"Mousepad\",\"USB drive\",\"External drive\"]"
      ]
    },
    {
      "cell_type": "code",
      "source": [
        "#Print the list\n",
        "print(item_list)"
      ],
      "metadata": {
        "id": "358R_CN5U2-J",
        "colab": {
          "base_uri": "https://localhost:8080/"
        },
        "outputId": "7d4fd2f3-ce3e-4f04-b957-98d428a6772a"
      },
      "execution_count": null,
      "outputs": [
        {
          "output_type": "stream",
          "name": "stdout",
          "text": [
            "['Laptop', 'Headset', 'Second monitor', 'Mousepad', 'USB drive', 'External drive']\n"
          ]
        }
      ]
    },
    {
      "cell_type": "markdown",
      "metadata": {
        "id": "5keEWjCyp-D2"
      },
      "source": [
        "####What is mandatory and what is optional?\n",
        "\n",
        "📌 Use list slicing to devide your list in two list: 'mandatory_item_list' and 'optional_item_list' and print both to the screen."
      ]
    },
    {
      "cell_type": "code",
      "execution_count": null,
      "metadata": {
        "id": "E6ewuDYZp-D2"
      },
      "outputs": [],
      "source": [
        "#Use list slicing to divide the mandatory items\n",
        "mandatory_item_list = item_list[0:3]"
      ]
    },
    {
      "cell_type": "code",
      "source": [
        "#Use list slicing to divide the optional items\n",
        "optional_item_list = item_list[3:6]"
      ],
      "metadata": {
        "id": "hOmkym01RGEL"
      },
      "execution_count": null,
      "outputs": []
    },
    {
      "cell_type": "code",
      "source": [
        "#Print both to the screen\n",
        "print(mandatory_item_list)\n",
        "print(optional_item_list)"
      ],
      "metadata": {
        "id": "xsVv1_msVE1_",
        "colab": {
          "base_uri": "https://localhost:8080/"
        },
        "outputId": "67ba5276-b073-44d1-babc-842994ce08ac"
      },
      "execution_count": null,
      "outputs": [
        {
          "output_type": "stream",
          "name": "stdout",
          "text": [
            "['Laptop', 'Headset', 'Second monitor']\n",
            "['Mousepad', 'USB drive', 'External drive']\n"
          ]
        }
      ]
    },
    {
      "cell_type": "markdown",
      "metadata": {
        "id": "s_M1Q93wp-D3"
      },
      "source": [
        "#### Go Shopping\n",
        "Next, you will have to go and purchase these items, the finance department confirmed a budget of $5000.\n",
        "\n",
        "📌 Assign 5000 to a variable called limit, so you know how much you can spend."
      ]
    },
    {
      "cell_type": "code",
      "execution_count": null,
      "metadata": {
        "id": "nCmpm0oqp-D3"
      },
      "outputs": [],
      "source": [
        "#Assign the spending limit value to a variable called limit\n",
        "limit = 5000"
      ]
    },
    {
      "cell_type": "markdown",
      "metadata": {
        "id": "VwbEEymVp-D3"
      },
      "source": [
        "####Price dictionary\n",
        "\n",
        "Before you start shopping yo need to find the best items that you can buy within the company budget.\n",
        "\n",
        "📌 Prepare a dictionary called “price_sheet” that includes the items as keys and the prices as values.  \n"
      ]
    },
    {
      "cell_type": "code",
      "execution_count": null,
      "metadata": {
        "id": "9o9n9Ag-p-D3"
      },
      "outputs": [],
      "source": [
        "#Create a dictionary that contains each item and its price\n",
        "\n",
        "price_sheet = {\n",
        "    'Laptop' : 1500,\n",
        "    'Headset' : 100,\n",
        "    'Second monitor' : 200,\n",
        "    'Mousepad': 50,\n",
        "    'USB drive': 70,\n",
        "    'External drive': 250,\n",
        "\n",
        "}"
      ]
    },
    {
      "cell_type": "markdown",
      "metadata": {
        "id": "rUYivBVEBhCv"
      },
      "source": [
        "####Shopping functions\n",
        "\n",
        "You need to define three functions that will help you during shopping.\n",
        "\n",
        "📌 First, create an empty list that  will be your shopping cart. Here you will add the items you need to purchase.\n",
        "\n",
        "1. Define a function for both adding items to the cart and removing them from the item_list.\n",
        "\n",
        "📌 The \"add_to_cart\" function should take the item name and the quantity to buy as an argument.\n",
        "\n",
        "2. Define a function that will create an invoice.\n",
        "\n",
        "📌 The \"create_invoice\" function should calculate the taxes of each item (18%) and add it to the total amount.\n",
        "\n",
        "3. Define a function for the checkout.\n",
        "\n",
        "📌 The \"checkout\" function should subtract the total amount from the budget and print a statement to inform if the payment was successful."
      ]
    },
    {
      "cell_type": "code",
      "source": [
        "#Initialize the cart list\n",
        "cart = []"
      ],
      "metadata": {
        "id": "dBNZ2ZdkGHUe"
      },
      "execution_count": null,
      "outputs": []
    },
    {
      "cell_type": "code",
      "source": [
        "#Define the \"add_to_cart\" function\n",
        "def add_to_cart(item,quantity):\n",
        "  cart.append((item,quantity))\n",
        "  item_list.remove(item)"
      ],
      "metadata": {
        "id": "HH26hHHFGKPJ"
      },
      "execution_count": null,
      "outputs": []
    },
    {
      "cell_type": "code",
      "source": [
        "#Define the \"create_invoice\" function\n",
        "def create_invoice():\n",
        "  total_amount_inc_tax=0\n",
        "  for item,quantity in cart:\n",
        "    price = price_sheet[item]\n",
        "    tax = 0.18 * price\n",
        "    total = (tax + price) * quantity\n",
        "    total_amount_inc_tax += total\n",
        "    print(\"Item: \" ,item , \"\\t\", \"Price: \" ,price , \"\\t\", \"Quantity: \" ,quantity , \"\\t\",\"Tax: \" ,tax , \"\\t\", \"Total: \" , total, \"\\n\" )\n",
        "\n",
        "  print(\"After the taxes are applied the total amount is: \" ,  \"\\t\" , total_amount_inc_tax)\n",
        "  return total_amount_inc_tax"
      ],
      "metadata": {
        "id": "TUmNr4xVGQdm"
      },
      "execution_count": null,
      "outputs": []
    },
    {
      "cell_type": "code",
      "source": [
        "#Define the \"checkout\" function\n",
        "def checkout():\n",
        "  global limit\n",
        "  total_amount = create_invoice()\n",
        "  if limit==0:\n",
        "    print(\"You dont have any budget\")\n",
        "  elif total_amount>limit:\n",
        "    print(\"The amount you haave to pay is above the spending limit. You have to drop some items\")\n",
        "  else:\n",
        "    limit -= total_amount\n",
        "    print(f\"The total amount (incl. taxes) you have paid is {total_amount}. You {limit} dollars left \")"
      ],
      "metadata": {
        "id": "iUlKiXgMGdIk"
      },
      "execution_count": null,
      "outputs": []
    },
    {
      "cell_type": "markdown",
      "source": [
        "Let's shop!"
      ],
      "metadata": {
        "id": "2IFUlu0yB0In"
      }
    },
    {
      "cell_type": "code",
      "source": [
        "#Call the \"add_to_cart\" function for each item\n",
        "\n",
        "#Add first item to cart\n",
        "add_to_cart(\"Laptop\" , 1)\n",
        "\n",
        "#Add second item to cart\n",
        "add_to_cart(\"Headset\" , 8)\n",
        "\n",
        "#Add third item to cart\n",
        "add_to_cart(\"Second monitor\" , 1)\n",
        "\n",
        "#Add fourth item to cart\n",
        "add_to_cart(\"Mousepad\" , 1)\n",
        "\n",
        "#Add fifth item to cart\n",
        "add_to_cart(\"USB drive\" , 1)\n",
        "\n",
        "#Add last item to cart\n",
        "add_to_cart(\"External drive\" , 1)\n",
        "\n",
        "#Call the create \"checkout\" function to pay for all your items\n",
        "checkout()"
      ],
      "metadata": {
        "id": "-F8414u7_gF0"
      },
      "execution_count": null,
      "outputs": []
    },
    {
      "cell_type": "markdown",
      "source": [
        "###Game Night\n",
        "\n",
        "You are back at the office and the HR department organizes a welcome party for new employees.\n",
        "\n",
        "You decide to create a Rock-Paper-Scissor game.\n",
        "\n",
        "📌 Create a Rock-Paper-Scissor game in which the user plays against the computer. The player will choose one of the actions, and the computer will choose its action randomly.\n"
      ],
      "metadata": {
        "id": "ZL-r2x_xKixg"
      }
    },
    {
      "cell_type": "code",
      "source": [
        "#Import the random library\n",
        "import random"
      ],
      "metadata": {
        "id": "qzD5pxBTgcFb"
      },
      "execution_count": null,
      "outputs": []
    },
    {
      "cell_type": "code",
      "source": [
        "#create a list containing the three actions of the game.\n",
        "action_list = [\"rock\",\"paper\",\"scissors\"]"
      ],
      "metadata": {
        "id": "oJv-ihLAgcRo"
      },
      "execution_count": null,
      "outputs": []
    },
    {
      "cell_type": "code",
      "source": [
        "#Set the scores of players to 0\n",
        "computer_score = 0\n",
        "player_score = 0\n",
        "#Ask the user how many rounds they want to play\n",
        "total_rounds = input(\"How many rounds do you want to play ? Please enter a number here: \")\n",
        "\n",
        "#Add a round_counter that is 0 at the beginning\n",
        "round_counter = 0\n",
        "\n",
        "#Write a while loop and put the game inside\n",
        "while True:\n",
        "\n",
        "  #Increase round_counter by and print it\n",
        "  round_counter +=1\n",
        "  print(\"Round number: \" , round_counter)\n",
        "\n",
        "  #Select a random action for computer\n",
        "  computer_choise = random.choice(action_list)\n",
        "\n",
        "  #Ask player to choose an action\n",
        "  player_choise = input(\"Please choose your action: \")\n",
        "\n",
        "  #Print the players choices\n",
        "  print(\"Computer:\" ,computer_choise)\n",
        "  print(\"Player:\" ,player_choise)\n",
        "\n",
        "\n",
        "  #tie condition\n",
        "  if computer_choise == player_choise:\n",
        "    print(\"Tie! Both players choose the same action.\")\n",
        "\n",
        "\n",
        "  #Remaining conditions\n",
        "  elif computer_choise == \"paper\":\n",
        "    if player_choise == \"rock\":\n",
        "      print(\"Winner is: Computer\")\n",
        "      computer_score +=1\n",
        "    else:\n",
        "      print(\"Winner is: Player\")\n",
        "      player_score +=1\n",
        "\n",
        "  elif computer_choise == \"rock\":\n",
        "    if player_choise == \"scissors\":\n",
        "      print(\"Winner is: Computer\")\n",
        "      computer_score +=1\n",
        "    else:\n",
        "      print(\"Winner is: Player\")\n",
        "      player_score +=1\n",
        "\n",
        "  elif computer_choise == \"scissors\":\n",
        "    if player_choise == \"paper\":\n",
        "      print(\"Winner is: Computer\")\n",
        "      computer_score +=1\n",
        "    else:\n",
        "      print(\"Winner is: Player\")\n",
        "      player_score +=1\n",
        "\n",
        "  #Stop the while loop if the round_counter equals the number of total rounds\n",
        "  if round_counter == int(total_rounds):\n",
        "      break\n",
        "\n",
        "#Print the outcome of the game by using conditional statements\n",
        "if computer_score == player_score:\n",
        "  print(\"There is no winner, tie.\")\n",
        "  print(\"Computer Score:\" ,computer_score)\n",
        "  print(\"Player Score :\" ,player_score)\n",
        "elif computer_score > player_score:\n",
        "  print(\"Computer won the game!\")\n",
        "  print(\"Computer Score:\" ,computer_score)\n",
        "  print(\"Player Score :\" ,player_score)\n",
        "else:\n",
        "  print(\"Player won the game!\")\n",
        "  print(\"Computer Score:\" ,computer_score)\n",
        "  print(\"Player Score :\" ,player_score)"
      ],
      "metadata": {
        "id": "DNUa_9afWqMd",
        "colab": {
          "base_uri": "https://localhost:8080/"
        },
        "outputId": "cabffa4d-652e-4cf9-d000-a85ac4fdb409"
      },
      "execution_count": null,
      "outputs": [
        {
          "output_type": "stream",
          "name": "stdout",
          "text": [
            "How many rounds do you want to play ? Please enter a number here: 3\n",
            "Round number:  1\n",
            "Please choose your action: pen\n",
            "Computer: rock\n",
            "Player: pen\n",
            "Winner is: Player\n",
            "Round number:  2\n",
            "Please choose your action: pen\n",
            "Computer: paper\n",
            "Player: pen\n",
            "Winner is: Player\n",
            "Round number:  3\n",
            "Please choose your action: pen\n",
            "Computer: paper\n",
            "Player: pen\n",
            "Winner is: Player\n",
            "Player won the game!\n",
            "Computer Score: 0\n",
            "Player Score : 3\n"
          ]
        }
      ]
    },
    {
      "cell_type": "markdown",
      "metadata": {
        "id": "jdrYN0Xgp-D6"
      },
      "source": [
        "# Your first task\n",
        "\n",
        "Rachel asks you to write a program to track the name and revenue each employee brings.  \n",
        "\n",
        "* Create the \"salesperson_revenue\" dictionary to see the employee name as a key and the revenue as a value.\n",
        "\n",
        "  📌 Every employee starts with 0 revenue.\n",
        "* Define the \"enter_revenue\" function.\n",
        "\n",
        "  📌 The function takes the name and revenue as an argument and updates the salesperson_revenue dictionary.\n"
      ]
    },
    {
      "cell_type": "code",
      "source": [
        "#Create salesperson_revenue dictionary\n",
        "salesperson_revenue = {\n",
        "    \"Ben\" : 0,\n",
        "    \"Omer\" : 0,\n",
        "    \"Karen\" : 0,\n",
        "    \"Celine\" : 0,\n",
        "    \"Sue\" : 0,\n",
        "    \"Bora\" : 0,\n",
        "    \"Rose\" : 0,\n",
        "    \"Ellen\" : 0,\n",
        "}\n"
      ],
      "metadata": {
        "id": "3vzRo7hyMRv2"
      },
      "execution_count": null,
      "outputs": []
    },
    {
      "cell_type": "code",
      "source": [
        "#Define enter_revenue function\n",
        "def enter_revenue(name , revenue):\n",
        "   global salesperson_revenue\n",
        "   salesperson_revenue[name] += revenue"
      ],
      "metadata": {
        "id": "m-8IozBwMRzM"
      },
      "execution_count": null,
      "outputs": []
    },
    {
      "cell_type": "markdown",
      "source": [
        "####Try out the functions\n",
        "* In a while loop ask the user to give the name of the employee and for the revenue\n",
        "\n",
        "  📌 If the user enters “quit” the loop should break.\n",
        "\n",
        "After that, print out the salesperson_revenue dictionary.\n"
      ],
      "metadata": {
        "id": "UnTGSoNTi58u"
      }
    },
    {
      "cell_type": "code",
      "source": [
        "#Asking user employee name as input\n",
        "while True:\n",
        "  name = input(\"Employee name: \")\n",
        "  if name == \"quit\" :\n",
        "    break\n",
        "  revenue = int(input(\"Enter revenue: \"))\n",
        "  enter_revenue(name , revenue)\n",
        "  print(f\"{name}'s revenue is {salesperson_revenue[name]}\")"
      ],
      "metadata": {
        "id": "2E549VvFXNi6"
      },
      "execution_count": null,
      "outputs": []
    },
    {
      "cell_type": "code",
      "source": [
        "#Print the salesperson_revenue dictionary\n",
        "print(salesperson_revenue)"
      ],
      "metadata": {
        "id": "OAvl9rgOXPe6",
        "colab": {
          "base_uri": "https://localhost:8080/"
        },
        "outputId": "7f596b71-08ac-4f84-f148-60e6de232e43"
      },
      "execution_count": null,
      "outputs": [
        {
          "output_type": "stream",
          "name": "stdout",
          "text": [
            "{'Ben': 135, 'Omer': 50, 'Karen': 0, 'Celine': 0, 'Sue': 0, 'Bora': 0, 'Rose': 0, 'Ellen': 0}\n"
          ]
        }
      ]
    },
    {
      "cell_type": "code",
      "source": [
        "x = 27.5\n",
        "if(int(x) == x):\n",
        "  print(f\"{int(x)} is equal to {x}\")\n",
        "else:\n",
        "  print(f\"{int(x)} is not equal to {x}\")"
      ],
      "metadata": {
        "colab": {
          "base_uri": "https://localhost:8080/"
        },
        "id": "vAiAnH6BGonL",
        "outputId": "8ea2442d-5074-4db8-a2c7-a8786e1353a7"
      },
      "execution_count": null,
      "outputs": [
        {
          "output_type": "stream",
          "name": "stdout",
          "text": [
            "27 is not equal to 27.5\n"
          ]
        }
      ]
    },
    {
      "cell_type": "code",
      "source": [
        "list1= [1,5,7,2,4,12]\n",
        "result_list = []\n",
        "\n",
        "def lets_add():\n",
        "  for i in list1:\n",
        "    if i%2==0:\n",
        "      result_list.append(i)\n",
        "\n",
        "lets_add()\n",
        "print(result_list)"
      ],
      "metadata": {
        "colab": {
          "base_uri": "https://localhost:8080/"
        },
        "id": "b7pPnlN8HIid",
        "outputId": "e38610d2-dd3e-47b2-877e-08bb135aa764"
      },
      "execution_count": null,
      "outputs": [
        {
          "output_type": "stream",
          "name": "stdout",
          "text": [
            "[2, 4, 12]\n"
          ]
        }
      ]
    },
    {
      "cell_type": "code",
      "source": [
        "name = \"Johnny Doe\"\n",
        "\n",
        "def func():\n",
        "  global name\n",
        "  name = \"John Doe\"\n",
        "\n",
        "func()\n",
        "print(name)"
      ],
      "metadata": {
        "colab": {
          "base_uri": "https://localhost:8080/"
        },
        "id": "JbSJeENuHwXJ",
        "outputId": "92239db5-c01f-4128-df7e-ceab5d7cb99a"
      },
      "execution_count": null,
      "outputs": [
        {
          "output_type": "stream",
          "name": "stdout",
          "text": [
            "John Doe\n"
          ]
        }
      ]
    },
    {
      "cell_type": "code",
      "source": [
        "username = \"New York\"\n",
        "password = \"2022\"\n",
        "\n",
        "input_username = input(\"Enter a username: \" )\n",
        "input_password = input(\"Enter a password: \" )\n",
        "\n",
        "if input_username == username and input_password == password:\n",
        "  print(\"A\")\n",
        "elif input_username == username and input_password != password:\n",
        "  print(\"B\")\n",
        "elif input_username != username and input_password == password:\n",
        "  print(\"C\")"
      ],
      "metadata": {
        "colab": {
          "base_uri": "https://localhost:8080/"
        },
        "id": "MX1NxTRmIBfU",
        "outputId": "d8ee090c-be50-462f-f8c3-316557fa2423"
      },
      "execution_count": null,
      "outputs": [
        {
          "output_type": "stream",
          "name": "stdout",
          "text": [
            "Enter a username: New York\n",
            "Enter a password: 2024\n",
            "B\n"
          ]
        }
      ]
    },
    {
      "cell_type": "code",
      "source": [
        "\"\"\"\n",
        "item_list = [\"Laptop\" , \"Headset\" , \"Second Monitor\" , \"Mousepad\" ,\"USB driver\" , \"External drive\"]\n",
        "item_list.append([\"Mouse\",\"Pencil\",\"Pen\"])\n",
        "item_list.remove(\"Mouse\")\n",
        "item_list[0:3]\n",
        "\"\"\""
      ],
      "metadata": {
        "colab": {
          "base_uri": "https://localhost:8080/",
          "height": 35
        },
        "id": "x_N3rILuJARX",
        "outputId": "179b7d1a-1e3d-4f97-c3f5-ec1a0209fae9"
      },
      "execution_count": null,
      "outputs": [
        {
          "output_type": "execute_result",
          "data": {
            "text/plain": [
              "'\\nitem_list = [\"Laptop\" , \"Headset\" , \"Second Monitor\" , \"Mousepad\" ,\"USB driver\" , \"External drive\"]\\nitem_list.append([\"Mouse\",\"Pencil\",\"Pen\"])\\nitem_list.remove(\"Mouse\")\\nitem_list[0:3]\\n'"
            ],
            "application/vnd.google.colaboratory.intrinsic+json": {
              "type": "string"
            }
          },
          "metadata": {},
          "execution_count": 1
        }
      ]
    },
    {
      "cell_type": "code",
      "source": [
        "languages = [\"English\" , \"Spanish\" , \"Turkish\" , \"Italian\",\"Chinese\"]\n",
        "\n",
        "def select(selection):\n",
        "  if selection in languages:\n",
        "    print(f\"You selected: {selection}.\")\n",
        "  else:\n",
        "    print(f\"{selection} is nott available.\")\n",
        "\n",
        "selection = input(\"Please select a language: \")\n",
        "select(selection)"
      ],
      "metadata": {
        "colab": {
          "base_uri": "https://localhost:8080/"
        },
        "id": "G0WR3UbeJlTp",
        "outputId": "92e488e1-84f9-42b3-d326-37225d3e5a66"
      },
      "execution_count": null,
      "outputs": [
        {
          "output_type": "stream",
          "name": "stdout",
          "text": [
            "Please select a language: German\n",
            "German is nott available.\n"
          ]
        }
      ]
    }
  ],
  "metadata": {
    "interpreter": {
      "hash": "c5914ae3790566b9cd0e984a9bdda42a29da8adf046b5ac0173e0d37aacf3dab"
    },
    "kernelspec": {
      "display_name": "Python 3.9.7",
      "language": "python",
      "name": "python3"
    },
    "language_info": {
      "codemirror_mode": {
        "name": "ipython",
        "version": 3
      },
      "file_extension": ".py",
      "mimetype": "text/x-python",
      "name": "python",
      "nbconvert_exporter": "python",
      "pygments_lexer": "ipython3",
      "version": "3.9.7"
    },
    "orig_nbformat": 4,
    "colab": {
      "provenance": [],
      "include_colab_link": true
    }
  },
  "nbformat": 4,
  "nbformat_minor": 0
}