{
  "nbformat": 4,
  "nbformat_minor": 0,
  "metadata": {
    "colab": {
      "provenance": [],
      "authorship_tag": "ABX9TyPkpZ4dhDNyOTUJWA08v4xn",
      "include_colab_link": true
    },
    "kernelspec": {
      "name": "python3",
      "display_name": "Python 3"
    },
    "language_info": {
      "name": "python"
    }
  },
  "cells": [
    {
      "cell_type": "markdown",
      "metadata": {
        "id": "view-in-github",
        "colab_type": "text"
      },
      "source": [
        "<a href=\"https://colab.research.google.com/github/yagmurbasoglu/PythonGlobalAI/blob/main/Python1Example.ipynb\" target=\"_parent\"><img src=\"https://colab.research.google.com/assets/colab-badge.svg\" alt=\"Open In Colab\"/></a>"
      ]
    },
    {
      "cell_type": "code",
      "execution_count": null,
      "metadata": {
        "colab": {
          "base_uri": "https://localhost:8080/"
        },
        "id": "7jMpobaj7_Xh",
        "outputId": "977485cd-32a6-4d10-bd33-b11d87cfae67"
      },
      "outputs": [
        {
          "output_type": "stream",
          "name": "stdout",
          "text": [
            "İsminizi giriniz : Yağmur\n",
            "Merhaba  Yağmur\n"
          ]
        }
      ],
      "source": [
        "#Kullanıcıdan ismini alarak \"MERHABA İSİM\" yazan programı yazınız.\n",
        "isim = input(\"İsminizi giriniz : \")\n",
        "print(\"Merhaba \" , isim)"
      ]
    },
    {
      "cell_type": "code",
      "source": [
        "#Kullannıcıdan iki sayı alarak bunların toplamını ve ortalamasını ekrana yazan programı yazın\n",
        "sayi1 = int(input(\"Birinci sayıyı girin: \"))\n",
        "sayi2 = int(input(\"İkinci sayıyı girin: \"))\n",
        "toplam = sayi1 + sayi2\n",
        "ort = toplam / 2\n",
        "print(\"Toplam: \" , toplam , \" Ortlama: \" , ort)"
      ],
      "metadata": {
        "colab": {
          "base_uri": "https://localhost:8080/"
        },
        "id": "Xdu_whXh8r8H",
        "outputId": "f07273a9-1313-4a3e-f60a-b3e536dbf681"
      },
      "execution_count": null,
      "outputs": [
        {
          "output_type": "stream",
          "name": "stdout",
          "text": [
            "Birinci sayıyı girin: 5\n",
            "İkinci sayıyı girin: 8\n",
            "Toplam:  13  Ortlama:  6.5\n"
          ]
        }
      ]
    },
    {
      "cell_type": "code",
      "source": [
        "#Kullanıcıdan alınan 3 sayının en büyüğünü bulan programı yazın\n",
        "a = int(input(\"a sayıyı girin: \"))\n",
        "b = int(input(\"b sayıyı girin: \"))\n",
        "c = int(input(\"c sayıyı girin: \"))\n",
        "\n",
        "if a>b and a>c:\n",
        "  print(\"a en büyük sayıdır.\")\n",
        "elif b>a and b>c:\n",
        "  print(\"b en büyük sayıdır\")\n",
        "else:\n",
        "  print(\"c en büyük sayıdır\")\n"
      ],
      "metadata": {
        "colab": {
          "base_uri": "https://localhost:8080/"
        },
        "id": "5ImzOnxZ9RzM",
        "outputId": "b8938314-ccbe-4102-fdf5-b1b81e788ae7"
      },
      "execution_count": null,
      "outputs": [
        {
          "output_type": "stream",
          "name": "stdout",
          "text": [
            "a sayıyı girin: 15\n",
            "b sayıyı girin: 45\n",
            "c sayıyı girin: 10\n",
            "b en büyük sayıdır\n"
          ]
        }
      ]
    },
    {
      "cell_type": "code",
      "source": [
        "import math\n",
        "#İkinci dereceden ax^2 + bx + c = 0 denkleminin diskriminantını hesaplayınız.\n",
        "a = int(input(\"a sayıyı girin: \"))\n",
        "b = int(input(\"b sayıyı girin: \"))\n",
        "c = int(input(\"c sayıyı girin: \"))\n",
        "#Diskriminant = b^2 - 4ac\n",
        "delta = b**2 - (4*a*c)\n",
        "print(\"Delta = \" , delta)\n",
        "#Kökle -b +- kök delta / 2a\n",
        "if delta>0:\n",
        "  kok1 = (-b + math.sqrt(delta)) / (2*a)\n",
        "  print(\"Kök1 = \" , kok1)\n",
        "  kok2 = (-b - math.sqrt(delta)) / (2*a)\n",
        "  print(\"Kök2 = \" , kok2)\n",
        "elif delta==0:\n",
        "  kok = -b/ (2*a)\n",
        "  print(\"Çakışık Kök = \" , kok)\n",
        "else:\n",
        "  print(\"Delta 0 dan küçük sistemin kökü yoktur\")"
      ],
      "metadata": {
        "colab": {
          "base_uri": "https://localhost:8080/"
        },
        "id": "jgChYXIV-kS9",
        "outputId": "90560149-a2f8-49a5-8ae4-2a539300d414"
      },
      "execution_count": null,
      "outputs": [
        {
          "output_type": "stream",
          "name": "stdout",
          "text": [
            "a sayıyı girin: 4\n",
            "b sayıyı girin: 4\n",
            "c sayıyı girin: 1\n",
            "Delta =  0\n",
            "Çakışık Kök =  -0.5\n"
          ]
        }
      ]
    },
    {
      "cell_type": "code",
      "source": [
        "#Vize notunun %40'ını,Final notunun%60'ını alarak ortalma notu hesaplayan,ortalama 50 den büyükse geçen yoksa kalan programı yazınız\n",
        "vize = float(input(\"Vize : \"))\n",
        "final = float(input(\"Final : \"))\n",
        "ortalama = vize*0.40 + final*0.60\n",
        "print(\"Ortalama=  \" , ortalama)\n",
        "if ortalama>=50:\n",
        "  print(\"Geçti\")\n",
        "else:\n",
        "  print(\"Kaldı\")\n"
      ],
      "metadata": {
        "colab": {
          "base_uri": "https://localhost:8080/"
        },
        "id": "19GONCfrAMsG",
        "outputId": "a983beaa-b1e4-45d9-d47f-a16702ff7b8a"
      },
      "execution_count": null,
      "outputs": [
        {
          "output_type": "stream",
          "name": "stdout",
          "text": [
            "Vize : 40\n",
            "Final : 30\n",
            "Ortalama=   34.0\n",
            "Kaldı\n"
          ]
        }
      ]
    },
    {
      "cell_type": "code",
      "source": [
        "#1'den 100'e kadar olan sayıların toplamını bulunuz\n",
        "toplam = 0\n",
        "for i in range(100):\n",
        "  toplam += i\n",
        "print(\"(100 dahil değil)Toplam: \" ,toplam)"
      ],
      "metadata": {
        "colab": {
          "base_uri": "https://localhost:8080/"
        },
        "id": "0FqsGmYPBFmp",
        "outputId": "5bddc02f-7715-4bb8-c536-b0366ff158a6"
      },
      "execution_count": null,
      "outputs": [
        {
          "output_type": "stream",
          "name": "stdout",
          "text": [
            "Toplam:  4950\n"
          ]
        }
      ]
    },
    {
      "cell_type": "code",
      "source": [
        "#1'den n'e kadar olan sayılardan tek olanların toplamını nulunuz? n kullanıcıdan al\n",
        "n = int(input(\"Sayı giriniz: \"))\n",
        "toplamOdd = 0\n",
        "toplamEven = 0\n",
        "for i in range(1,n+1):\n",
        "    if i%2 !=0:\n",
        "        toplamOdd = i + toplamOdd\n",
        "    else:\n",
        "        toplamEven = i + toplamEven\n",
        "print(\"Tek sayıların toplamı: \" , toplamOdd)\n",
        "print(\"Çift sayıların toplamı: \" , toplamEven)\n",
        "\n"
      ],
      "metadata": {
        "colab": {
          "base_uri": "https://localhost:8080/"
        },
        "id": "Lp6ENW46BwHy",
        "outputId": "b39566aa-f8ea-473f-d293-ee26c31a9215"
      },
      "execution_count": null,
      "outputs": [
        {
          "output_type": "stream",
          "name": "stdout",
          "text": [
            "Sayı giriniz: 8\n",
            "Tek sayıların toplamı:  16\n",
            "Çift sayıların toplamı:  20\n"
          ]
        }
      ]
    },
    {
      "cell_type": "code",
      "source": [
        "#n'den m'ye kadar olan sayılardan 7'ye tam bölünenleri bulunuz n ve m kullanıcıdan al\n",
        "while True:\n",
        "  n = int(input(\"Başlangıç giriniz: \"))\n",
        "  m = int(input(\"Bitiş giriniz: \"))\n",
        "  if n>=m:\n",
        "     print(\"Başlangıç daha küçük olmalı tekrar sayı giriniz\")\n",
        "  else :\n",
        "    break\n",
        "toplam = 0\n",
        "for i in range(n,m):\n",
        "  if i%7 == 0:\n",
        "    toplam +=i\n",
        "    print(i)\n",
        "\n",
        "print(\"7'ye tam bölünenlerim toplamı : \" , toplam)"
      ],
      "metadata": {
        "colab": {
          "base_uri": "https://localhost:8080/"
        },
        "id": "wzO-5xBkDES-",
        "outputId": "aa1baf9b-f176-4ef5-a23d-9677ca7cd5fe"
      },
      "execution_count": null,
      "outputs": [
        {
          "output_type": "stream",
          "name": "stdout",
          "text": [
            "Başlangıç giriniz: 3\n",
            "Bitiş giriniz: 15\n",
            "7\n",
            "14\n",
            "7'ye tam bölünenlerim toplamı :  21\n"
          ]
        }
      ]
    },
    {
      "cell_type": "code",
      "source": [
        "#Kullanıcıdan ismini alıp ekrana tersten yazan programı yazınız\n",
        "isim = input(\"İsminizi giriniz: \")\n",
        "#1.Yol\n",
        "\"\"\"\"\n",
        "isim = isim[::-1]\n",
        "print(isim)\n",
        "\"\"\"\n",
        "#2.Yol\n",
        "uzunluk = len(isim)\n",
        "print(uzunluk)\n",
        "ters = \"\"\n",
        "for i in range(uzunluk-1,-1,-1): #indexlere dikkat et\n",
        "  ters += isim[i]\n",
        "\n",
        "print(ters)"
      ],
      "metadata": {
        "colab": {
          "base_uri": "https://localhost:8080/"
        },
        "id": "YfCZwpMjZ_ng",
        "outputId": "1e5b6acb-657f-4452-de89-8c767d47903b"
      },
      "execution_count": null,
      "outputs": [
        {
          "output_type": "stream",
          "name": "stdout",
          "text": [
            "İsminizi giriniz: Yağmur\n",
            "6\n",
            "rumğaY\n"
          ]
        }
      ]
    },
    {
      "cell_type": "code",
      "source": [
        "#Kullanıcıdan ismini ve soyismini alarak içerisinde kaç adet sessiz ve sesli harf olduğunu bulan\n",
        "isim = input(\"İsminizi giriniz: \")\n",
        "sesli = \"aeıioöuü\"\n",
        "sesliCount = 0\n",
        "sessizCount = 0\n",
        "for i in isim:\n",
        "  if i in sesli:\n",
        "      sesliCount += 1\n",
        "  else:\n",
        "      sessizCount += 1\n",
        "print(\"Sesli: \" , sesliCount)\n",
        "print(\"Sessiz,: \" , sessizCount)"
      ],
      "metadata": {
        "colab": {
          "base_uri": "https://localhost:8080/"
        },
        "id": "_f3Jbzg0beCz",
        "outputId": "f8ee993a-a5e9-465a-d89a-18f056c2d6d7"
      },
      "execution_count": null,
      "outputs": [
        {
          "output_type": "stream",
          "name": "stdout",
          "text": [
            "İsminizi giriniz: Yağmur\n",
            "Sesli:  2\n",
            "Sessiz,:  4\n"
          ]
        }
      ]
    },
    {
      "cell_type": "code",
      "source": [
        "#0 ile 1000 arasındaki Fibonacci sayılarını bulan programı yazınız\n",
        "# 1 - 1 - 2 - 3 - 5 - 8 - 13 - 21\n",
        "a = 1\n",
        "b = 1\n",
        "c = 0\n",
        "while c<1000:\n",
        " print(b)\n",
        " c = a + b\n",
        " a = b\n",
        " b = c\n"
      ],
      "metadata": {
        "colab": {
          "base_uri": "https://localhost:8080/"
        },
        "id": "DBXxY2oPcyFA",
        "outputId": "069e76ae-a7d3-4ce2-ed62-8bd7b09fa41d"
      },
      "execution_count": null,
      "outputs": [
        {
          "output_type": "stream",
          "name": "stdout",
          "text": [
            "1\n",
            "2\n",
            "3\n",
            "5\n",
            "8\n",
            "13\n",
            "21\n",
            "34\n",
            "55\n",
            "89\n",
            "144\n",
            "233\n",
            "377\n",
            "610\n",
            "987\n"
          ]
        }
      ]
    },
    {
      "cell_type": "code",
      "source": [
        "#0 ile 1000 arasındaki Asal sayıları bulan programı yazınız\n",
        "# Asallar 2 den başlar ondan 2 den başlat kendinden bi öncekie kkadar denenir\n",
        "\"\"\" 1 sayı için \"\"\"\n",
        "\"\"\"\n",
        "bolenCount = 0\n",
        "sayi = 13\n",
        "for i in range(2,sayi):\n",
        "     if (sayi%i==0):\n",
        "        bolenCount += i\n",
        "if bolenCount == 0:\n",
        "  print(\"Asal Sayıdır\") \"\"\"\n",
        "\n",
        "for j in range(3,1000):\n",
        "    bolenCount = 0\n",
        "    for i in range(2,j):\n",
        "        if(j%i==0):\n",
        "            bolenCount += 1\n",
        "\n",
        "    if bolenCount == 0:\n",
        "          print(j)\n",
        "\n"
      ],
      "metadata": {
        "id": "anom89UgdjtZ"
      },
      "execution_count": null,
      "outputs": []
    },
    {
      "cell_type": "markdown",
      "source": [
        "11-12 önemli bak"
      ],
      "metadata": {
        "id": "GkyLAPMnfSSc"
      }
    },
    {
      "cell_type": "code",
      "source": [
        "#Kullanıcıdan 10 adet sayı alan ve tek ve çift sayıların adetini , toplamını ve prtalamasını bulan\n",
        "\n",
        "odd = 0\n",
        "even =0\n",
        "s = 0\n",
        "oddToplam = 0\n",
        "evenToplam = 0\n",
        "for i in range(1,11):\n",
        "      s = int(input(\"Sayıyı giriniz: \"))\n",
        "      if s%2==0:\n",
        "           even += 1\n",
        "           evenToplam += i\n",
        "      else:\n",
        "            odd += 1\n",
        "            oddToplam += i4\n",
        "\n",
        "print(\"Tek toplam: \" ,oddToplam)\n",
        "print(\"Çİft toplam: \" ,evenToplam)\n",
        "print(\"Tek sayısı: \" ,odd)\n",
        "print(\"Çift sayısı: \" ,even)\n",
        "print(\"Tek sayıların ortalaması: \" , (oddToplam/odd))\n",
        "print(\"Çift sayıların ortalaması: \" , (evenToplam/even))\n",
        "print(\"Tüm sayıların toplamı: \" , (oddToplam+evenToplam))\n",
        "print(\"Tüm sayıların ortalaması: \" ,  ((oddToplam/odd)+ (evenToplam/even)))\n",
        "\n",
        "\n",
        "\n",
        "\n"
      ],
      "metadata": {
        "colab": {
          "base_uri": "https://localhost:8080/"
        },
        "id": "r26QCbGqfT7c",
        "outputId": "29402e21-978e-466e-efd1-1aa7e417738e"
      },
      "execution_count": null,
      "outputs": [
        {
          "output_type": "stream",
          "name": "stdout",
          "text": [
            "Sayıyı giriniz: 12\n",
            "Sayıyı giriniz: 5\n",
            "Sayıyı giriniz: 6\n",
            "Sayıyı giriniz: 3\n",
            "Sayıyı giriniz: 4\n",
            "Sayıyı giriniz: 8\n",
            "Sayıyı giriniz: 9\n",
            "Sayıyı giriniz: 7\n",
            "Sayıyı giriniz: 8\n",
            "Sayıyı giriniz: 5\n",
            "Tek toplam:  31\n",
            "Çİft toplam:  24\n",
            "Tek sayısı:  5\n",
            "Çift sayısı:  5\n",
            "Tek sayıların ortalaması:  6.2\n",
            "Çift sayıların ortalaması:  4.8\n",
            "Tüm sayıların toplamı:  55\n",
            "Tüm sayıların ortalaması:  11.0\n"
          ]
        }
      ]
    },
    {
      "cell_type": "code",
      "source": [
        "#Kullanıcının istediği kadar saayıyı, kullanıcıdan alarak bir diziye aktarani bu sayıların toplamını ve ortalamasını bulan\n",
        "adet = int(input(\"Kaç adet sayı girmek istiyorsunuz: \"))\n",
        "dizi = []\n",
        "for i in range(adet):\n",
        "  dizi.append(int(input(\"Sayıyı giriniz: \")))\n",
        "\n",
        "print(dizi)\n",
        "toplam = 0\n",
        "\n",
        "for j in dizi:\n",
        "  toplam += j\n",
        "\n",
        "print(\"Toplam: \" , toplam)\n",
        "print(\"Ortalama: \" ,(toplam / len(dizi)))\n"
      ],
      "metadata": {
        "colab": {
          "base_uri": "https://localhost:8080/"
        },
        "id": "6RKoZsYFj6PB",
        "outputId": "e0812220-25bf-4db7-802d-92136183eff3"
      },
      "execution_count": null,
      "outputs": [
        {
          "output_type": "stream",
          "name": "stdout",
          "text": [
            "Kaç adet sayı girmek istiyorsunuz: 3\n",
            "Sayıyı giriniz: 6\n",
            "Sayıyı giriniz: 5\n",
            "Sayıyı giriniz: 4\n",
            "[6, 5, 4]\n",
            "Toplam:  15\n",
            "Ortalama:  5.0\n"
          ]
        }
      ]
    },
    {
      "cell_type": "code",
      "source": [
        "#Kullanıcının istediği büyüklükte bir diziyi 0-100 arasında rastgele\n",
        "#oluşturulmuş sayılarla doldurup bu sayıların standart sapmasını hesaplayınız\n",
        "\n",
        "import random\n",
        "import math\n",
        "u = int(input(\"Dizi uzunluğunu giriniz: \"))\n",
        "dizi = []\n",
        "\n",
        "for i in range(u):\n",
        "      dizi.append(random.randint(0,100))\n",
        "\n",
        "print(dizi)\n",
        "\n",
        "toplam = 0\n",
        "for x in dizi:\n",
        "  toplam += x\n",
        "\n",
        "print(\"Toplam: \" , toplam)\n",
        "\n",
        "ortalama = toplam/u;\n",
        "print(\"Ortalama: \" , ortalama)\n",
        "\n",
        "#Her elemandan ortalama çıkart karesini al topla ve eleman sayısına bölüp köke al\n",
        "\n",
        "farkToplam = 0\n",
        "\n",
        "for j in dizi:\n",
        "  fark = j-ortalama\n",
        "  fark = fark**2\n",
        "  farkToplam += fark\n",
        "\n",
        "ssapma = math.sqrt(farkToplam/u)\n",
        "print(\"Standart Sapma: \" , ssapma)"
      ],
      "metadata": {
        "colab": {
          "base_uri": "https://localhost:8080/"
        },
        "id": "4NoNaIClmKRW",
        "outputId": "416a48c6-8370-40a3-e2ef-866781b50be3"
      },
      "execution_count": null,
      "outputs": [
        {
          "output_type": "stream",
          "name": "stdout",
          "text": [
            "Dizi uzunluğunu giriniz: 5\n",
            "[13, 67, 1, 95, 54]\n",
            "Toplam:  230\n",
            "Ortalama:  46.0\n",
            "Standart Sapma:  34.698703145794944\n"
          ]
        }
      ]
    },
    {
      "cell_type": "code",
      "source": [
        "#3X3 rastgele sayılardan oluşan 2 matris oluşturun. Bu matrislerin, toplamını hesaplayınız\n",
        "import random\n",
        "m1 = [[0 for x in range(3)] for y in range(3)]\n",
        "m2 = [[0 for x in range(3)] for y in range(3)]\n",
        "mt = [[0 for x in range(3)] for y in range(3)]\n",
        "\n",
        "for i in range(3):\n",
        "  for j in range(3):\n",
        "    m1[i][j] = random.randint(0,5)\n",
        "    m2[i][j] = random.randint(0,5)\n",
        "    mt[i][j] = m1[i][j] + m2[i][j]\n",
        "\n",
        "\n",
        "print(m1)\n",
        "print(m2)\n",
        "print(mt)"
      ],
      "metadata": {
        "colab": {
          "base_uri": "https://localhost:8080/"
        },
        "id": "3mNgIEv3oF1i",
        "outputId": "db7ed4d5-3e1a-46a0-e38c-bc3e54823e78"
      },
      "execution_count": null,
      "outputs": [
        {
          "output_type": "stream",
          "name": "stdout",
          "text": [
            "[[2, 0, 1], [5, 0, 3], [2, 0, 5]]\n",
            "[[5, 2, 2], [4, 4, 2], [1, 1, 1]]\n",
            "[[7, 2, 3], [9, 4, 5], [3, 1, 6]]\n"
          ]
        }
      ]
    },
    {
      "cell_type": "code",
      "source": [
        "#Kullanıcının girdiği mXn boyutta bir matris oluşturup bu matirisi rastgele sayılarla doldurunuz.\n",
        "#Bu matrisin transpozesini oluşturunuz?\n",
        "import random\n",
        "\n",
        "satir = int(input(\"Satır sayısı: \"))\n",
        "sutun = int(input(\"Sütun sayısı: \"))\n",
        "\n",
        "m = [[0 for i in range(sutun)] for y in range(satir)] #3X5\n",
        "mt = [[0 for i in range(satir)] for y in range(sutun)] #5x3\n",
        "\n",
        "for i in range(satir):\n",
        "  for j in range(sutun):\n",
        "       m[i][j] = random.randint(0,9)\n",
        "       mt[j][i] = m[i][j]\n",
        "\n",
        "print(m)\n",
        "print(mt)"
      ],
      "metadata": {
        "colab": {
          "base_uri": "https://localhost:8080/"
        },
        "id": "vmS058cKx_Oe",
        "outputId": "6ccee6f3-78f8-4446-878b-0f1fb359b3ee"
      },
      "execution_count": null,
      "outputs": [
        {
          "output_type": "stream",
          "name": "stdout",
          "text": [
            "Satır sayısı: 3\n",
            "Sütun sayısı: 5\n",
            "[[3, 1, 5, 6, 4], [2, 9, 4, 1, 0], [9, 4, 9, 6, 6]]\n",
            "[[3, 2, 9], [1, 9, 4], [5, 4, 9], [6, 1, 6], [4, 0, 6]]\n"
          ]
        }
      ]
    },
    {
      "cell_type": "markdown",
      "source": [
        "17-18 kendin yap"
      ],
      "metadata": {
        "id": "UmNQ71Sh0UNt"
      }
    },
    {
      "cell_type": "code",
      "source": [
        "#Kullanıcıdan alınan 4 basamaklı bir sayıyı yazı ile yazınız?\n",
        "# kullanıcı 3215 -> \"üç bin iki yüz on beş\"\n",
        "birler = [\"\",\"bir\",\"iki\",\"üç\",\"dört\",\"beş\",\"altı\",\"yedi\",\"sekiz\",\"dokuz\"]\n",
        "onlar = [\"\",\"on\",\"yirmi\",\"otuz\",\"kırk\",\"elli\",\"altmış\",\"yetmiş\",\"seksen\",\"doksan\"]\n",
        "yuzler= [\"\",\"yüz\",\"ikiyüz\",\"üçyüz\",\"dörtyüz\",\"beşyüz\",\"altıyüz\",\"yediyüz\",\"sekizyüz\",\"dokuzyüz\"]\n",
        "binler= [\"\",\"bin\",\"ikibin\",\"üçbin\",\"dörtbin\",\"beşbin\",\"altıbin\",\"yedibin\",\"sekizbin\",\"dokuzbin\"]\n",
        "\n",
        "\n",
        "sayi = int(input(\"4 basamaklı bir sayi giriniz: \"))\n",
        "\n",
        "s = str(sayi)\n",
        "\n",
        "print(binler[int(s[0])],yuzler[int(s[1])],onlar[int(s[2])],birler[int(s[3])],)\n",
        "\n",
        "\n"
      ],
      "metadata": {
        "colab": {
          "base_uri": "https://localhost:8080/"
        },
        "id": "Y0JM6e0T0Y96",
        "outputId": "8005390f-c1dc-4ba9-d8c3-77c6fb027edb"
      },
      "execution_count": null,
      "outputs": [
        {
          "output_type": "stream",
          "name": "stdout",
          "text": [
            "4 basamaklı bir sayi giriniz: 1234\n",
            "bin ikiyüz otuz dört\n"
          ]
        }
      ]
    },
    {
      "cell_type": "code",
      "source": [
        "#Tersten yazıldığında da aynı değeri olan sayılara Palimdrom sayılar denir.\n",
        "#1000 - 100000  sayıları arasındaki palindromları bulan\n",
        "for i in range(1000 ,100000):\n",
        "  s = str(i)\n",
        "  t = s[::-1]\n",
        "  if s==t:\n",
        "    print(s)"
      ],
      "metadata": {
        "id": "RmtVKLny4Wg9"
      },
      "execution_count": null,
      "outputs": []
    },
    {
      "cell_type": "code",
      "source": [
        "#Kullanıcıdan alınan bir cümlede kaç adet kelime olduğunu ve kaç adet harf olduğunu bulan\n",
        "s = input(\"Bir cümle girin: \")\n",
        "bosluk = 0\n",
        "for i in s:\n",
        "   if i == \" \":\n",
        "    bosluk += 1\n",
        "\n",
        "print(\"Boşluk Adedi: \" , bosluk)\n",
        "print(\"Kelime Sayısı: \" , (bosluk+1))\n",
        "print(\"Harf Saysı: \" , len(s))\n"
      ],
      "metadata": {
        "colab": {
          "base_uri": "https://localhost:8080/"
        },
        "id": "ujwDb6X36u9B",
        "outputId": "774cca27-8048-43c9-d5e0-80ca1df5e3a1"
      },
      "execution_count": null,
      "outputs": [
        {
          "output_type": "stream",
          "name": "stdout",
          "text": [
            "Bir cümle girin: bugün hava çok sıcak\n",
            "Boşluk Adedi:  3\n",
            "Kelime Sayısı:  4\n",
            "Harf Saysı:  20\n"
          ]
        }
      ]
    },
    {
      "cell_type": "code",
      "source": [
        "#Create the item_list\n",
        "item_list = [\"Laptop\" ,\"Headset\",\"Second monitor\", \"Mousepad\",\"USB drive\",\"External drive\"]\n",
        "#Assign the spending limit value to a variable called limit\n",
        "limit = 5000\n",
        "#Create a dictionary that contains each item and its price\n",
        "\n",
        "price_sheet = {\n",
        "    'Laptop' : 1500,\n",
        "    'Headset' : 100,\n",
        "    'Second monitor' : 200,\n",
        "    'Mousepad': 50,\n",
        "    'USB drive': 70,\n",
        "    'External drive': 250,\n",
        "\n",
        "}\n",
        "\n",
        "#Initialize the cart list\n",
        "cart = []\n",
        "\n",
        "#Define the \"add_to_cart\" function\n",
        "def add_to_cart(item,quantity):\n",
        "  cart.append((item,quantity))\n",
        "  item_list.remove(item)\n",
        "\n",
        "#Define the \"create_invoice\" function\n",
        "def create_invoice():\n",
        "  total_amount_inc_tax=0\n",
        "  for item,quantity in cart:\n",
        "    price = price_sheet[item]\n",
        "    tax = 0.25 * price\n",
        "    total = (tax + price) * quantity\n",
        "    total_amount_inc_tax += total\n",
        "    print(\"Item: \" ,item , \"\\t\", \"Price: \" ,price , \"\\t\", \"Quantity: \" ,quantity , \"\\t\",\"Tax: \" ,tax , \"\\t\", \"Total: \" , total, \"\\n\" )\n",
        "\n",
        "  print(\"After the taxes are applied the total amount is: \" ,  \"\\t\" , total_amount_inc_tax)\n",
        "  return total_amount_inc_tax\n",
        "\n",
        " #Define the \"checkout\" function\n",
        "def checkout():\n",
        "  global limit\n",
        "  total_amount = create_invoice()\n",
        "  if limit==0:\n",
        "    print(\"You dont have any budget\")\n",
        "  elif total_amount>limit:\n",
        "    print(\"The amount you haave to pay is above the spending limit. You have to drop some items\")\n",
        "  else:\n",
        "    limit -= total_amount\n",
        "    print(f\"The total amount (incl. taxes) you have paid is {total_amount}. You {limit} dollars left \")\n",
        "\n",
        "#Call the \"add_to_cart\" function for each item\n",
        "\n",
        "#Add first item to cart\n",
        "add_to_cart(\"Laptop\" , 1)\n",
        "\n",
        "#Add second item to cart\n",
        "add_to_cart(\"Headset\" , 8)\n",
        "\n",
        "#Add third item to cart\n",
        "add_to_cart(\"Second monitor\" , 1)\n",
        "\n",
        "#Add fourth item to cart\n",
        "add_to_cart(\"Mousepad\" , 1)\n",
        "\n",
        "#Add fifth item to cart\n",
        "add_to_cart(\"USB drive\" , 2)\n",
        "\n",
        "#Add last item to cart\n",
        "add_to_cart(\"External drive\" , 1)\n",
        "\n",
        "#Call the create \"checkout\" function to pay for all your items\n",
        "checkout()"
      ],
      "metadata": {
        "colab": {
          "base_uri": "https://localhost:8080/"
        },
        "id": "czcPH6WzKo0U",
        "outputId": "73c2413d-0705-4708-cf75-481fcf30dcb2"
      },
      "execution_count": null,
      "outputs": [
        {
          "output_type": "stream",
          "name": "stdout",
          "text": [
            "Item:  Laptop \t Price:  1500 \t Quantity:  1 \t Tax:  375.0 \t Total:  1875.0 \n",
            "\n",
            "Item:  Headset \t Price:  100 \t Quantity:  8 \t Tax:  25.0 \t Total:  1000.0 \n",
            "\n",
            "Item:  Second monitor \t Price:  200 \t Quantity:  1 \t Tax:  50.0 \t Total:  250.0 \n",
            "\n",
            "Item:  Mousepad \t Price:  50 \t Quantity:  1 \t Tax:  12.5 \t Total:  62.5 \n",
            "\n",
            "Item:  USB drive \t Price:  70 \t Quantity:  2 \t Tax:  17.5 \t Total:  175.0 \n",
            "\n",
            "Item:  External drive \t Price:  250 \t Quantity:  1 \t Tax:  62.5 \t Total:  312.5 \n",
            "\n",
            "After the taxes are applied the total amount is:  \t 3675.0\n",
            "The total amount (incl. taxes) you have paid is 3675.0. You 1325.0 dollars left \n"
          ]
        }
      ]
    }
  ]
}